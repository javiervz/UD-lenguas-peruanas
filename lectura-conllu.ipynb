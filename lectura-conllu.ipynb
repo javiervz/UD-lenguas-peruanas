{
 "cells": [
  {
   "cell_type": "markdown",
   "id": "615baa43",
   "metadata": {},
   "source": [
    "## Lectura de archivos conllu"
   ]
  },
  {
   "cell_type": "markdown",
   "id": "b6a0566f",
   "metadata": {},
   "source": [
    "### 1. Abrimos el archivo que creamos en [annotatrix](https://github.com/jonorthwash/ud-annotatrix)"
   ]
  },
  {
   "cell_type": "code",
   "execution_count": 2,
   "id": "2182bb66",
   "metadata": {},
   "outputs": [
    {
     "name": "stdout",
     "output_type": "stream",
     "text": [
      "<_io.TextIOWrapper name='oraciones/ud-candy.conllu' mode='r' encoding='utf-8'>\n"
     ]
    }
   ],
   "source": [
    "## abrimos los archivos\n",
    "\n",
    "## usamos la libreria conllu. Para instalarla, en una celda poner !pip install conllu (ojo! con el signo \"!\" al inicio)\n",
    "from conllu import parse\n",
    "\n",
    "oraciones = open('oraciones/ud-candy.conllu' , \"r\", encoding=\"utf-8\")\n",
    "print(oraciones)"
   ]
  },
  {
   "cell_type": "code",
   "execution_count": 3,
   "id": "6cd32baf",
   "metadata": {},
   "outputs": [],
   "source": [
    "## leemos las oraciones\n",
    "\n",
    "## usamos read.()\n",
    "oraciones = oraciones.read()"
   ]
  },
  {
   "cell_type": "code",
   "execution_count": 4,
   "id": "372ff22c",
   "metadata": {},
   "outputs": [
    {
     "data": {
      "text/plain": [
       "'# sent_id = code-1-candy mishito chahonmun Paco muhukihnu\\n1\\tmishito\\t_\\tNOUN\\t_\\t_\\t4\\tnsubj\\t4:nsubj\\t_\\n2\\tchaho=n=mun\\t_\\tADJ\\t_\\t_\\t1\\tnmod\\t1:nmod\\t_\\n3\\tPaco\\t_\\tNOUN\\t_\\t_\\t4\\tobj\\t4:obj\\t_\\n4\\tmuhu=ki=h=nu\\t_\\tVERB\\t_\\t_\\t0\\troot\\t0:root\\t_\\n5\\t.\\t_\\tPUNCT\\t_\\t_\\t4\\tpunct\\t4:punct\\t_'"
      ]
     },
     "execution_count": 4,
     "metadata": {},
     "output_type": "execute_result"
    }
   ],
   "source": [
    "## noten que las oraciones quedan como una secuencia de caracteres, que hay que procesar :)\n",
    "\n",
    "oraciones"
   ]
  },
  {
   "cell_type": "code",
   "execution_count": 5,
   "id": "161c03f3",
   "metadata": {},
   "outputs": [],
   "source": [
    "## para procesar la oración, y transformarla en un formato que permita trabajar, usamos parse\n",
    "\n",
    "oraciones = parse(oraciones)"
   ]
  },
  {
   "cell_type": "code",
   "execution_count": 6,
   "id": "fa4b4904",
   "metadata": {},
   "outputs": [
    {
     "data": {
      "text/plain": [
       "[TokenList<mishito, chaho=n=mun, Paco, muhu=ki=h=nu, .>]"
      ]
     },
     "execution_count": 6,
     "metadata": {},
     "output_type": "execute_result"
    }
   ],
   "source": [
    "oraciones"
   ]
  },
  {
   "cell_type": "markdown",
   "id": "22f796dc",
   "metadata": {},
   "source": [
    "### 2. ¿Qué formato tienen las oraciones en _Python_? "
   ]
  },
  {
   "cell_type": "code",
   "execution_count": 7,
   "id": "ba5616a9",
   "metadata": {},
   "outputs": [
    {
     "data": {
      "text/plain": [
       "1"
      ]
     },
     "execution_count": 7,
     "metadata": {},
     "output_type": "execute_result"
    }
   ],
   "source": [
    "## ¿Cuántas oraciones están contenidas en la lista \"oraciones\"?\n",
    "\n",
    "len(oraciones)"
   ]
  },
  {
   "cell_type": "code",
   "execution_count": 8,
   "id": "6234e21f",
   "metadata": {},
   "outputs": [],
   "source": [
    "## accedemos a la oración, que en Python es simplemente la que está en la posición 0\n",
    "\n",
    "oracion = oraciones[0]"
   ]
  },
  {
   "cell_type": "code",
   "execution_count": 9,
   "id": "9fe5b2b9",
   "metadata": {},
   "outputs": [
    {
     "data": {
      "text/plain": [
       "TokenList<mishito, chaho=n=mun, Paco, muhu=ki=h=nu, .>"
      ]
     },
     "execution_count": 9,
     "metadata": {},
     "output_type": "execute_result"
    }
   ],
   "source": [
    "oracion"
   ]
  },
  {
   "cell_type": "code",
   "execution_count": 10,
   "id": "1d74994a",
   "metadata": {},
   "outputs": [],
   "source": [
    "## veamos la primera palabra (la 0, noten que accedemos usando los paréntesis cuadrados alrededor de la posición)\n",
    "\n",
    "palabra = oracion[0]"
   ]
  },
  {
   "cell_type": "code",
   "execution_count": 11,
   "id": "318a1657",
   "metadata": {},
   "outputs": [
    {
     "data": {
      "text/plain": [
       "{'id': 1,\n",
       " 'form': 'mishito',\n",
       " 'lemma': '_',\n",
       " 'upos': 'NOUN',\n",
       " 'xpos': None,\n",
       " 'feats': None,\n",
       " 'head': 4,\n",
       " 'deprel': 'nsubj',\n",
       " 'deps': [('nsubj', 4)],\n",
       " 'misc': None}"
      ]
     },
     "execution_count": 11,
     "metadata": {},
     "output_type": "execute_result"
    }
   ],
   "source": [
    "## cada palabra es un diccionario!!!\n",
    "\n",
    "palabra"
   ]
  },
  {
   "cell_type": "code",
   "execution_count": 12,
   "id": "38f1c6b3",
   "metadata": {},
   "outputs": [],
   "source": [
    "## si queremos ver el head de la oración\n",
    "\n",
    "def head_oracion(oracion):\n",
    "    \n",
    "    for token in oracion:\n",
    "        if token['head']==0 or token['head']==None:\n",
    "            head_id = token['id']\n",
    "            \n",
    "    return head_id"
   ]
  },
  {
   "cell_type": "code",
   "execution_count": 13,
   "id": "1557a624",
   "metadata": {},
   "outputs": [],
   "source": [
    "index_head = head_oracion(oracion)"
   ]
  },
  {
   "cell_type": "code",
   "execution_count": 14,
   "id": "30a733a8",
   "metadata": {},
   "outputs": [
    {
     "data": {
      "text/plain": [
       "4"
      ]
     },
     "execution_count": 14,
     "metadata": {},
     "output_type": "execute_result"
    }
   ],
   "source": [
    "index_head"
   ]
  },
  {
   "cell_type": "code",
   "execution_count": 15,
   "id": "3e3d2788",
   "metadata": {},
   "outputs": [],
   "source": [
    "## para ver el núcleo usamos el siguiente truco\n",
    "\n",
    "head = oracion[index_head-1]"
   ]
  },
  {
   "cell_type": "code",
   "execution_count": 16,
   "id": "712dc2ee",
   "metadata": {},
   "outputs": [
    {
     "data": {
      "text/plain": [
       "{'id': 4,\n",
       " 'form': 'muhu=ki=h=nu',\n",
       " 'lemma': '_',\n",
       " 'upos': 'VERB',\n",
       " 'xpos': None,\n",
       " 'feats': None,\n",
       " 'head': 0,\n",
       " 'deprel': 'root',\n",
       " 'deps': [('root', 0)],\n",
       " 'misc': None}"
      ]
     },
     "execution_count": 16,
     "metadata": {},
     "output_type": "execute_result"
    }
   ],
   "source": [
    "head"
   ]
  },
  {
   "cell_type": "code",
   "execution_count": null,
   "id": "eaf51c0a",
   "metadata": {},
   "outputs": [],
   "source": []
  },
  {
   "cell_type": "code",
   "execution_count": null,
   "id": "5ae7a8e7",
   "metadata": {},
   "outputs": [],
   "source": []
  }
 ],
 "metadata": {
  "kernelspec": {
   "display_name": "Python 3 (ipykernel)",
   "language": "python",
   "name": "python3"
  },
  "language_info": {
   "codemirror_mode": {
    "name": "ipython",
    "version": 3
   },
   "file_extension": ".py",
   "mimetype": "text/x-python",
   "name": "python",
   "nbconvert_exporter": "python",
   "pygments_lexer": "ipython3",
   "version": "3.9.7"
  }
 },
 "nbformat": 4,
 "nbformat_minor": 5
}

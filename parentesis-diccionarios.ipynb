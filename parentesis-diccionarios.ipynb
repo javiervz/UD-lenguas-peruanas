{
 "cells": [
  {
   "cell_type": "markdown",
   "metadata": {
    "id": "lje0LaD8Ptpw"
   },
   "source": [
    "# **Lingüística computacional 1LIN-11 2021-2**\n",
    "### Roberto Zariquiey Biondi, rzariquiey@pucp.edu.pe \n",
    "### Javier Vera Zúñiga, javier.vera@pucv.cl"
   ]
  },
  {
   "cell_type": "markdown",
   "metadata": {},
   "source": [
    "### Paréntesis sobre diccionarios!"
   ]
  },
  {
   "cell_type": "code",
   "execution_count": 2,
   "metadata": {},
   "outputs": [],
   "source": [
    "## miremos el diccionario que generamos en el jupyter notebook de al lado\n",
    "\n",
    "D = {'id': 1,\n",
    " 'form': 'The',\n",
    " 'lemma': 'the',\n",
    " 'upos': 'DET',\n",
    " 'xpos': 'DT',\n",
    " 'feats': {'Definite': 'Def', 'PronType': 'Art'},\n",
    " 'head': 4,\n",
    " 'deprel': 'det',\n",
    " 'deps': None,\n",
    " 'misc': None}"
   ]
  },
  {
   "cell_type": "code",
   "execution_count": 6,
   "metadata": {},
   "outputs": [],
   "source": [
    "## veamos qué hay adentro de D\n",
    "\n",
    "keys = list(D.keys())"
   ]
  },
  {
   "cell_type": "code",
   "execution_count": 7,
   "metadata": {},
   "outputs": [
    {
     "data": {
      "text/plain": [
       "['id',\n",
       " 'form',\n",
       " 'lemma',\n",
       " 'upos',\n",
       " 'xpos',\n",
       " 'feats',\n",
       " 'head',\n",
       " 'deprel',\n",
       " 'deps',\n",
       " 'misc']"
      ]
     },
     "execution_count": 7,
     "metadata": {},
     "output_type": "execute_result"
    }
   ],
   "source": [
    "keys"
   ]
  },
  {
   "cell_type": "code",
   "execution_count": 8,
   "metadata": {},
   "outputs": [],
   "source": [
    "values = list(D.values())"
   ]
  },
  {
   "cell_type": "code",
   "execution_count": 10,
   "metadata": {},
   "outputs": [
    {
     "data": {
      "text/plain": [
       "[1,\n",
       " 'The',\n",
       " 'the',\n",
       " 'DET',\n",
       " 'DT',\n",
       " {'Definite': 'Def', 'PronType': 'Art'},\n",
       " 4,\n",
       " 'det',\n",
       " None,\n",
       " None]"
      ]
     },
     "execution_count": 10,
     "metadata": {},
     "output_type": "execute_result"
    }
   ],
   "source": [
    "values"
   ]
  },
  {
   "cell_type": "markdown",
   "metadata": {},
   "source": [
    "La lista **keys** contiene las entradas del diccionario D, de la misma forma en que un diccionario léxico tiene entradas. Los **keys** siempre son distintos. Los **values** son de alguna forma las \"definiciones\" asociadas a los keys. En general, los **keys** son enteros o strings, los **values** pueden ser cualquier cosa: otros diccionarios, listas, números, strings. Veamos algunos asuntos prácticos!"
   ]
  },
  {
   "cell_type": "markdown",
   "metadata": {},
   "source": [
    "Algunas cosas **simples**"
   ]
  },
  {
   "cell_type": "code",
   "execution_count": 15,
   "metadata": {},
   "outputs": [],
   "source": [
    "## los diccionarios tiene largo\n",
    "\n",
    "largo = len(D)"
   ]
  },
  {
   "cell_type": "code",
   "execution_count": 16,
   "metadata": {},
   "outputs": [
    {
     "data": {
      "text/plain": [
       "10"
      ]
     },
     "execution_count": 16,
     "metadata": {},
     "output_type": "execute_result"
    }
   ],
   "source": [
    "largo"
   ]
  },
  {
   "cell_type": "code",
   "execution_count": 17,
   "metadata": {},
   "outputs": [],
   "source": [
    "## los diccionarios tienen items (pares key-value)\n",
    "\n",
    "items = list(D.items())"
   ]
  },
  {
   "cell_type": "code",
   "execution_count": 18,
   "metadata": {},
   "outputs": [
    {
     "data": {
      "text/plain": [
       "[('id', 1),\n",
       " ('form', 'The'),\n",
       " ('lemma', 'the'),\n",
       " ('upos', 'DET'),\n",
       " ('xpos', 'DT'),\n",
       " ('feats', {'Definite': 'Def', 'PronType': 'Art'}),\n",
       " ('head', 4),\n",
       " ('deprel', 'det'),\n",
       " ('deps', None),\n",
       " ('misc', None)]"
      ]
     },
     "execution_count": 18,
     "metadata": {},
     "output_type": "execute_result"
    }
   ],
   "source": [
    "items"
   ]
  },
  {
   "cell_type": "code",
   "execution_count": 20,
   "metadata": {},
   "outputs": [],
   "source": [
    "## algo de magia! \n",
    "\n",
    "D = dict(items)"
   ]
  },
  {
   "cell_type": "code",
   "execution_count": 21,
   "metadata": {},
   "outputs": [
    {
     "data": {
      "text/plain": [
       "{'id': 1,\n",
       " 'form': 'The',\n",
       " 'lemma': 'the',\n",
       " 'upos': 'DET',\n",
       " 'xpos': 'DT',\n",
       " 'feats': {'Definite': 'Def', 'PronType': 'Art'},\n",
       " 'head': 4,\n",
       " 'deprel': 'det',\n",
       " 'deps': None,\n",
       " 'misc': None}"
      ]
     },
     "execution_count": 21,
     "metadata": {},
     "output_type": "execute_result"
    }
   ],
   "source": [
    "D"
   ]
  },
  {
   "cell_type": "markdown",
   "metadata": {},
   "source": [
    "¿Cómo **accedemos** a los **elementos** (es decir, los valores asociados a los keys) de un **diccionario**?"
   ]
  },
  {
   "cell_type": "code",
   "execution_count": 23,
   "metadata": {},
   "outputs": [],
   "source": [
    "## usamos D[key] para cualquier key :)\n",
    "\n",
    "value = D['id']"
   ]
  },
  {
   "cell_type": "code",
   "execution_count": 24,
   "metadata": {},
   "outputs": [
    {
     "data": {
      "text/plain": [
       "1"
      ]
     },
     "execution_count": 24,
     "metadata": {},
     "output_type": "execute_result"
    }
   ],
   "source": [
    "value"
   ]
  },
  {
   "cell_type": "code",
   "execution_count": 10,
   "metadata": {},
   "outputs": [],
   "source": [
    "value = D['form']"
   ]
  },
  {
   "cell_type": "code",
   "execution_count": 11,
   "metadata": {},
   "outputs": [
    {
     "data": {
      "text/plain": [
       "'The'"
      ]
     },
     "execution_count": 11,
     "metadata": {},
     "output_type": "execute_result"
    }
   ],
   "source": [
    "value"
   ]
  },
  {
   "cell_type": "code",
   "execution_count": 27,
   "metadata": {},
   "outputs": [],
   "source": [
    "## tal como esperábamos, también podemos acceder usando ciclos \"for\"\n",
    "\n",
    "lista_values = []\n",
    "\n",
    "## recorremos los keys\n",
    "for key in D.keys():\n",
    "    ## accedemos a cada key\n",
    "    value = D[key]\n",
    "    ## guardamos!\n",
    "    lista_values+=[value]"
   ]
  },
  {
   "cell_type": "code",
   "execution_count": 28,
   "metadata": {},
   "outputs": [
    {
     "data": {
      "text/plain": [
       "[1,\n",
       " 'The',\n",
       " 'the',\n",
       " 'DET',\n",
       " 'DT',\n",
       " {'Definite': 'Def', 'PronType': 'Art'},\n",
       " 4,\n",
       " 'det',\n",
       " None,\n",
       " None]"
      ]
     },
     "execution_count": 28,
     "metadata": {},
     "output_type": "execute_result"
    }
   ],
   "source": [
    "lista_values"
   ]
  },
  {
   "cell_type": "code",
   "execution_count": 29,
   "metadata": {},
   "outputs": [],
   "source": [
    "## ¿Qué pasa si uno de los values es también un diccionario?\n",
    "\n",
    "value = D['feats']"
   ]
  },
  {
   "cell_type": "code",
   "execution_count": 30,
   "metadata": {},
   "outputs": [
    {
     "data": {
      "text/plain": [
       "{'Definite': 'Def', 'PronType': 'Art'}"
      ]
     },
     "execution_count": 30,
     "metadata": {},
     "output_type": "execute_result"
    }
   ],
   "source": [
    "value"
   ]
  },
  {
   "cell_type": "code",
   "execution_count": 31,
   "metadata": {},
   "outputs": [],
   "source": [
    "value_value = value['Definite']"
   ]
  },
  {
   "cell_type": "code",
   "execution_count": 32,
   "metadata": {},
   "outputs": [
    {
     "data": {
      "text/plain": [
       "'Def'"
      ]
     },
     "execution_count": 32,
     "metadata": {},
     "output_type": "execute_result"
    }
   ],
   "source": [
    "value_value"
   ]
  },
  {
   "cell_type": "code",
   "execution_count": 34,
   "metadata": {},
   "outputs": [],
   "source": [
    "## es decir!\n",
    "\n",
    "value_value = D['feats']['Definite']"
   ]
  },
  {
   "cell_type": "code",
   "execution_count": 35,
   "metadata": {},
   "outputs": [
    {
     "data": {
      "text/plain": [
       "'Def'"
      ]
     },
     "execution_count": 35,
     "metadata": {},
     "output_type": "execute_result"
    }
   ],
   "source": [
    "value_value"
   ]
  },
  {
   "cell_type": "markdown",
   "metadata": {},
   "source": [
    "¿Cómo **creamos** diccionarios?"
   ]
  },
  {
   "cell_type": "code",
   "execution_count": 20,
   "metadata": {},
   "outputs": [],
   "source": [
    "## definamos un diccionario vacío: ¿cómo guardamos en D los keys y values?\n",
    "\n",
    "D = {}"
   ]
  },
  {
   "cell_type": "code",
   "execution_count": 21,
   "metadata": {},
   "outputs": [],
   "source": [
    "## recorremos los keys\n",
    "\n",
    "## usamos los índices!\n",
    "for i in range(len(keys)):\n",
    "    D[keys[i]]=values[i]"
   ]
  },
  {
   "cell_type": "code",
   "execution_count": 22,
   "metadata": {},
   "outputs": [
    {
     "data": {
      "text/plain": [
       "{'id': 1,\n",
       " 'form': 'The',\n",
       " 'lemma': 'the',\n",
       " 'upos': 'DET',\n",
       " 'xpos': 'DT',\n",
       " 'feats': {'Definite': 'Def', 'PronType': 'Art'},\n",
       " 'head': 4,\n",
       " 'deprel': 'det',\n",
       " 'deps': None,\n",
       " 'misc': None}"
      ]
     },
     "execution_count": 22,
     "metadata": {},
     "output_type": "execute_result"
    }
   ],
   "source": [
    "D"
   ]
  },
  {
   "cell_type": "code",
   "execution_count": 23,
   "metadata": {},
   "outputs": [],
   "source": [
    "## otra forma!\n",
    "\n",
    "D = {}\n",
    "\n",
    "## usamos los keys!\n",
    "for key in keys:\n",
    "    ## posición en que key está en keys\n",
    "    index = keys.index(key)\n",
    "    D[key]=values[index]"
   ]
  },
  {
   "cell_type": "code",
   "execution_count": 24,
   "metadata": {},
   "outputs": [
    {
     "data": {
      "text/plain": [
       "{'id': 1,\n",
       " 'form': 'The',\n",
       " 'lemma': 'the',\n",
       " 'upos': 'DET',\n",
       " 'xpos': 'DT',\n",
       " 'feats': {'Definite': 'Def', 'PronType': 'Art'},\n",
       " 'head': 4,\n",
       " 'deprel': 'det',\n",
       " 'deps': None,\n",
       " 'misc': None}"
      ]
     },
     "execution_count": 24,
     "metadata": {},
     "output_type": "execute_result"
    }
   ],
   "source": [
    "D"
   ]
  },
  {
   "cell_type": "code",
   "execution_count": null,
   "metadata": {
    "id": "G9GOkjiPPtqz"
   },
   "outputs": [],
   "source": []
  },
  {
   "cell_type": "code",
   "execution_count": null,
   "metadata": {
    "id": "_4uYLPGXPtq0"
   },
   "outputs": [],
   "source": []
  }
 ],
 "metadata": {
  "colab": {
   "name": "clase-2.ipynb",
   "provenance": []
  },
  "kernelspec": {
   "display_name": "Python 3",
   "language": "python",
   "name": "python3"
  },
  "language_info": {
   "codemirror_mode": {
    "name": "ipython",
    "version": 3
   },
   "file_extension": ".py",
   "mimetype": "text/x-python",
   "name": "python",
   "nbconvert_exporter": "python",
   "pygments_lexer": "ipython3",
   "version": "3.8.8"
  }
 },
 "nbformat": 4,
 "nbformat_minor": 1
}

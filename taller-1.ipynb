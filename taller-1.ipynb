{
 "cells": [
  {
   "cell_type": "markdown",
   "id": "2709e1d9",
   "metadata": {},
   "source": [
    "# Taller formato conllu"
   ]
  },
  {
   "cell_type": "markdown",
   "id": "a1fc7147",
   "metadata": {},
   "source": [
    "## 1. [Annotatrix](https://github.com/jonorthwash/ud-annotatrix#remote-static-files)"
   ]
  },
  {
   "cell_type": "markdown",
   "id": "8d13a5e9",
   "metadata": {},
   "source": [
    "Algunas **consideraciones prácticas**\n",
    "- Versiones del software de anotación\n",
    "    - En general, no son muy estables.\n",
    "    - Existen diversas versiones, es conveniente cambiarse de versión si es que la versión actual presenta errores.\n",
    "- Mirada general del [software](https://jonorthwash.github.io/ud-annotatrix/server/public/html/annotatrix.html)![](imagenes/annotatrix.JPG)\n",
    "    - xxx\n"
   ]
  },
  {
   "cell_type": "code",
   "execution_count": null,
   "id": "1b3dff87",
   "metadata": {},
   "outputs": [],
   "source": []
  }
 ],
 "metadata": {
  "kernelspec": {
   "display_name": "Python 3 (ipykernel)",
   "language": "python",
   "name": "python3"
  },
  "language_info": {
   "codemirror_mode": {
    "name": "ipython",
    "version": 3
   },
   "file_extension": ".py",
   "mimetype": "text/x-python",
   "name": "python",
   "nbconvert_exporter": "python",
   "pygments_lexer": "ipython3",
   "version": "3.9.7"
  }
 },
 "nbformat": 4,
 "nbformat_minor": 5
}
